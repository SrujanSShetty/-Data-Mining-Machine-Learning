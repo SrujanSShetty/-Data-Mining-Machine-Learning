{
  "metadata": {
    "kernelspec": {
      "name": "python",
      "display_name": "Python (Pyodide)",
      "language": "python"
    },
    "language_info": {
      "codemirror_mode": {
        "name": "python",
        "version": 3
      },
      "file_extension": ".py",
      "mimetype": "text/x-python",
      "name": "python",
      "nbconvert_exporter": "python",
      "pygments_lexer": "ipython3",
      "version": "3.8"
    }
  },
  "nbformat_minor": 4,
  "nbformat": 4,
  "cells": [
    {
      "cell_type": "code",
      "source": "import numpy as np\nimport scipy as sp\nimport pandas as pd\nfrom IPython.display import display, HTML\ndf1=pd.read_csv(\"malware_Binary.csv\")\n\n",
      "metadata": {
        "trusted": true
      },
      "outputs": [],
      "execution_count": 33
    },
    {
      "cell_type": "code",
      "source": "(df1.head())",
      "metadata": {
        "trusted": true
      },
      "outputs": [
        {
          "execution_count": 34,
          "output_type": "execute_result",
          "data": {
            "text/plain": "                                                hash  millisecond  \\\n0  42fb5e2ec009a05ff5143227297074f1e9c6c3ebb9c914...            0   \n1  42fb5e2ec009a05ff5143227297074f1e9c6c3ebb9c914...            1   \n2  42fb5e2ec009a05ff5143227297074f1e9c6c3ebb9c914...            2   \n3  42fb5e2ec009a05ff5143227297074f1e9c6c3ebb9c914...            3   \n4  42fb5e2ec009a05ff5143227297074f1e9c6c3ebb9c914...            4   \n\n  classification       os  state  usage_counter        prio  static_prio  \\\n0        malware   CentOS      0              0  3069378560        14274   \n1        malware  Windows      0              0  3069378560        14274   \n2        malware      Mac      0              0  3069378560        14274   \n3        malware   Ubuntu      0              0  3069378560        14274   \n4        malware      Mac      0              0  3069378560        14274   \n\n   normal_prio  policy  ...  nivcsw  min_flt  maj_flt  fs_excl_counter  \\\n0            0       0  ...       0        0      120                0   \n1            0       0  ...       0        0      120                0   \n2            0       0  ...       0        0      120                0   \n3            0       0  ...       0        0      120                0   \n4            0       0  ...       0        0      120                0   \n\n         lock   utime  stime  gtime  cgtime  signal_nvcsw  \n0  3204448256  380690      4      0       0             0  \n1  3204448256  380690      4      0       0             0  \n2  3204448256  380690      4      0       0             0  \n3  3204448256  380690      4      0       0             0  \n4  3204448256  380690      4      0       0             0  \n\n[5 rows x 36 columns]",
            "text/html": "<div>\n<style scoped>\n    .dataframe tbody tr th:only-of-type {\n        vertical-align: middle;\n    }\n\n    .dataframe tbody tr th {\n        vertical-align: top;\n    }\n\n    .dataframe thead th {\n        text-align: right;\n    }\n</style>\n<table border=\"1\" class=\"dataframe\">\n  <thead>\n    <tr style=\"text-align: right;\">\n      <th></th>\n      <th>hash</th>\n      <th>millisecond</th>\n      <th>classification</th>\n      <th>os</th>\n      <th>state</th>\n      <th>usage_counter</th>\n      <th>prio</th>\n      <th>static_prio</th>\n      <th>normal_prio</th>\n      <th>policy</th>\n      <th>...</th>\n      <th>nivcsw</th>\n      <th>min_flt</th>\n      <th>maj_flt</th>\n      <th>fs_excl_counter</th>\n      <th>lock</th>\n      <th>utime</th>\n      <th>stime</th>\n      <th>gtime</th>\n      <th>cgtime</th>\n      <th>signal_nvcsw</th>\n    </tr>\n  </thead>\n  <tbody>\n    <tr>\n      <th>0</th>\n      <td>42fb5e2ec009a05ff5143227297074f1e9c6c3ebb9c914...</td>\n      <td>0</td>\n      <td>malware</td>\n      <td>CentOS</td>\n      <td>0</td>\n      <td>0</td>\n      <td>3069378560</td>\n      <td>14274</td>\n      <td>0</td>\n      <td>0</td>\n      <td>...</td>\n      <td>0</td>\n      <td>0</td>\n      <td>120</td>\n      <td>0</td>\n      <td>3204448256</td>\n      <td>380690</td>\n      <td>4</td>\n      <td>0</td>\n      <td>0</td>\n      <td>0</td>\n    </tr>\n    <tr>\n      <th>1</th>\n      <td>42fb5e2ec009a05ff5143227297074f1e9c6c3ebb9c914...</td>\n      <td>1</td>\n      <td>malware</td>\n      <td>Windows</td>\n      <td>0</td>\n      <td>0</td>\n      <td>3069378560</td>\n      <td>14274</td>\n      <td>0</td>\n      <td>0</td>\n      <td>...</td>\n      <td>0</td>\n      <td>0</td>\n      <td>120</td>\n      <td>0</td>\n      <td>3204448256</td>\n      <td>380690</td>\n      <td>4</td>\n      <td>0</td>\n      <td>0</td>\n      <td>0</td>\n    </tr>\n    <tr>\n      <th>2</th>\n      <td>42fb5e2ec009a05ff5143227297074f1e9c6c3ebb9c914...</td>\n      <td>2</td>\n      <td>malware</td>\n      <td>Mac</td>\n      <td>0</td>\n      <td>0</td>\n      <td>3069378560</td>\n      <td>14274</td>\n      <td>0</td>\n      <td>0</td>\n      <td>...</td>\n      <td>0</td>\n      <td>0</td>\n      <td>120</td>\n      <td>0</td>\n      <td>3204448256</td>\n      <td>380690</td>\n      <td>4</td>\n      <td>0</td>\n      <td>0</td>\n      <td>0</td>\n    </tr>\n    <tr>\n      <th>3</th>\n      <td>42fb5e2ec009a05ff5143227297074f1e9c6c3ebb9c914...</td>\n      <td>3</td>\n      <td>malware</td>\n      <td>Ubuntu</td>\n      <td>0</td>\n      <td>0</td>\n      <td>3069378560</td>\n      <td>14274</td>\n      <td>0</td>\n      <td>0</td>\n      <td>...</td>\n      <td>0</td>\n      <td>0</td>\n      <td>120</td>\n      <td>0</td>\n      <td>3204448256</td>\n      <td>380690</td>\n      <td>4</td>\n      <td>0</td>\n      <td>0</td>\n      <td>0</td>\n    </tr>\n    <tr>\n      <th>4</th>\n      <td>42fb5e2ec009a05ff5143227297074f1e9c6c3ebb9c914...</td>\n      <td>4</td>\n      <td>malware</td>\n      <td>Mac</td>\n      <td>0</td>\n      <td>0</td>\n      <td>3069378560</td>\n      <td>14274</td>\n      <td>0</td>\n      <td>0</td>\n      <td>...</td>\n      <td>0</td>\n      <td>0</td>\n      <td>120</td>\n      <td>0</td>\n      <td>3204448256</td>\n      <td>380690</td>\n      <td>4</td>\n      <td>0</td>\n      <td>0</td>\n      <td>0</td>\n    </tr>\n  </tbody>\n</table>\n<p>5 rows × 36 columns</p>\n</div>"
          },
          "metadata": {}
        }
      ],
      "execution_count": 34
    },
    {
      "cell_type": "code",
      "source": "df=df1.loc[:,['classification', 'os', 'usage_counter', 'prio', 'static_prio', 'normal_prio', 'vm_pgoff', 'vm_truncate_count', 'task_size', 'map_count', 'hiwater_rss', 'total_vm', 'shared_vm', 'exec_vm', 'reserved_vm', 'nr_ptes', 'nvcsw', 'nivcsw', 'signal_nvcsw']]",
      "metadata": {
        "trusted": true
      },
      "outputs": [],
      "execution_count": 35
    },
    {
      "cell_type": "code",
      "source": "df.head()",
      "metadata": {
        "trusted": true
      },
      "outputs": [
        {
          "execution_count": 36,
          "output_type": "execute_result",
          "data": {
            "text/plain": "  classification       os  usage_counter        prio  static_prio  \\\n0        malware   CentOS              0  3069378560        14274   \n1        malware  Windows              0  3069378560        14274   \n2        malware      Mac              0  3069378560        14274   \n3        malware   Ubuntu              0  3069378560        14274   \n4        malware      Mac              0  3069378560        14274   \n\n   normal_prio  vm_pgoff  vm_truncate_count  task_size  map_count  \\\n0            0         0              13173          0       6850   \n1            0         0              13173          0       6850   \n2            0         0              13173          0       6850   \n3            0         0              13173          0       6850   \n4            0         0              13173          0       6850   \n\n   hiwater_rss  total_vm  shared_vm  exec_vm  reserved_vm  nr_ptes   nvcsw  \\\n0            0       150        120      124          210        0  341974   \n1            0       150        120      124          210        0  341974   \n2            0       150        120      124          210        0  341974   \n3            0       150        120      124          210        0  341974   \n4            0       150        120      124          210        0  341974   \n\n   nivcsw  signal_nvcsw  \n0       0             0  \n1       0             0  \n2       0             0  \n3       0             0  \n4       0             0  ",
            "text/html": "<div>\n<style scoped>\n    .dataframe tbody tr th:only-of-type {\n        vertical-align: middle;\n    }\n\n    .dataframe tbody tr th {\n        vertical-align: top;\n    }\n\n    .dataframe thead th {\n        text-align: right;\n    }\n</style>\n<table border=\"1\" class=\"dataframe\">\n  <thead>\n    <tr style=\"text-align: right;\">\n      <th></th>\n      <th>classification</th>\n      <th>os</th>\n      <th>usage_counter</th>\n      <th>prio</th>\n      <th>static_prio</th>\n      <th>normal_prio</th>\n      <th>vm_pgoff</th>\n      <th>vm_truncate_count</th>\n      <th>task_size</th>\n      <th>map_count</th>\n      <th>hiwater_rss</th>\n      <th>total_vm</th>\n      <th>shared_vm</th>\n      <th>exec_vm</th>\n      <th>reserved_vm</th>\n      <th>nr_ptes</th>\n      <th>nvcsw</th>\n      <th>nivcsw</th>\n      <th>signal_nvcsw</th>\n    </tr>\n  </thead>\n  <tbody>\n    <tr>\n      <th>0</th>\n      <td>malware</td>\n      <td>CentOS</td>\n      <td>0</td>\n      <td>3069378560</td>\n      <td>14274</td>\n      <td>0</td>\n      <td>0</td>\n      <td>13173</td>\n      <td>0</td>\n      <td>6850</td>\n      <td>0</td>\n      <td>150</td>\n      <td>120</td>\n      <td>124</td>\n      <td>210</td>\n      <td>0</td>\n      <td>341974</td>\n      <td>0</td>\n      <td>0</td>\n    </tr>\n    <tr>\n      <th>1</th>\n      <td>malware</td>\n      <td>Windows</td>\n      <td>0</td>\n      <td>3069378560</td>\n      <td>14274</td>\n      <td>0</td>\n      <td>0</td>\n      <td>13173</td>\n      <td>0</td>\n      <td>6850</td>\n      <td>0</td>\n      <td>150</td>\n      <td>120</td>\n      <td>124</td>\n      <td>210</td>\n      <td>0</td>\n      <td>341974</td>\n      <td>0</td>\n      <td>0</td>\n    </tr>\n    <tr>\n      <th>2</th>\n      <td>malware</td>\n      <td>Mac</td>\n      <td>0</td>\n      <td>3069378560</td>\n      <td>14274</td>\n      <td>0</td>\n      <td>0</td>\n      <td>13173</td>\n      <td>0</td>\n      <td>6850</td>\n      <td>0</td>\n      <td>150</td>\n      <td>120</td>\n      <td>124</td>\n      <td>210</td>\n      <td>0</td>\n      <td>341974</td>\n      <td>0</td>\n      <td>0</td>\n    </tr>\n    <tr>\n      <th>3</th>\n      <td>malware</td>\n      <td>Ubuntu</td>\n      <td>0</td>\n      <td>3069378560</td>\n      <td>14274</td>\n      <td>0</td>\n      <td>0</td>\n      <td>13173</td>\n      <td>0</td>\n      <td>6850</td>\n      <td>0</td>\n      <td>150</td>\n      <td>120</td>\n      <td>124</td>\n      <td>210</td>\n      <td>0</td>\n      <td>341974</td>\n      <td>0</td>\n      <td>0</td>\n    </tr>\n    <tr>\n      <th>4</th>\n      <td>malware</td>\n      <td>Mac</td>\n      <td>0</td>\n      <td>3069378560</td>\n      <td>14274</td>\n      <td>0</td>\n      <td>0</td>\n      <td>13173</td>\n      <td>0</td>\n      <td>6850</td>\n      <td>0</td>\n      <td>150</td>\n      <td>120</td>\n      <td>124</td>\n      <td>210</td>\n      <td>0</td>\n      <td>341974</td>\n      <td>0</td>\n      <td>0</td>\n    </tr>\n  </tbody>\n</table>\n</div>"
          },
          "metadata": {}
        }
      ],
      "execution_count": 36
    },
    {
      "cell_type": "code",
      "source": "# Converting os and classification into integer variables\ndf_dummies=pd.get_dummies(df[['os']], dtype=float)\nprint(df_dummies.head())",
      "metadata": {
        "trusted": true
      },
      "outputs": [
        {
          "name": "stdout",
          "text": "   os_CentOS  os_Debian  os_Mac  os_Ubuntu  os_Windows\n0        1.0        0.0     0.0        0.0         0.0\n1        0.0        0.0     0.0        0.0         1.0\n2        0.0        0.0     1.0        0.0         0.0\n3        0.0        0.0     0.0        1.0         0.0\n4        0.0        0.0     1.0        0.0         0.0\n",
          "output_type": "stream"
        }
      ],
      "execution_count": 37
    },
    {
      "cell_type": "code",
      "source": "df = df.join(df_dummies)\ndf = df.drop('os', axis=1)",
      "metadata": {
        "trusted": true
      },
      "outputs": [],
      "execution_count": 38
    },
    {
      "cell_type": "code",
      "source": "df.head()",
      "metadata": {
        "trusted": true
      },
      "outputs": [
        {
          "execution_count": 39,
          "output_type": "execute_result",
          "data": {
            "text/plain": "  classification  usage_counter        prio  static_prio  normal_prio  \\\n0        malware              0  3069378560        14274            0   \n1        malware              0  3069378560        14274            0   \n2        malware              0  3069378560        14274            0   \n3        malware              0  3069378560        14274            0   \n4        malware              0  3069378560        14274            0   \n\n   vm_pgoff  vm_truncate_count  task_size  map_count  hiwater_rss  ...  \\\n0         0              13173          0       6850            0  ...   \n1         0              13173          0       6850            0  ...   \n2         0              13173          0       6850            0  ...   \n3         0              13173          0       6850            0  ...   \n4         0              13173          0       6850            0  ...   \n\n   reserved_vm  nr_ptes   nvcsw  nivcsw  signal_nvcsw  os_CentOS  os_Debian  \\\n0          210        0  341974       0             0        1.0        0.0   \n1          210        0  341974       0             0        0.0        0.0   \n2          210        0  341974       0             0        0.0        0.0   \n3          210        0  341974       0             0        0.0        0.0   \n4          210        0  341974       0             0        0.0        0.0   \n\n   os_Mac  os_Ubuntu  os_Windows  \n0     0.0        0.0         0.0  \n1     0.0        0.0         1.0  \n2     1.0        0.0         0.0  \n3     0.0        1.0         0.0  \n4     1.0        0.0         0.0  \n\n[5 rows x 23 columns]",
            "text/html": "<div>\n<style scoped>\n    .dataframe tbody tr th:only-of-type {\n        vertical-align: middle;\n    }\n\n    .dataframe tbody tr th {\n        vertical-align: top;\n    }\n\n    .dataframe thead th {\n        text-align: right;\n    }\n</style>\n<table border=\"1\" class=\"dataframe\">\n  <thead>\n    <tr style=\"text-align: right;\">\n      <th></th>\n      <th>classification</th>\n      <th>usage_counter</th>\n      <th>prio</th>\n      <th>static_prio</th>\n      <th>normal_prio</th>\n      <th>vm_pgoff</th>\n      <th>vm_truncate_count</th>\n      <th>task_size</th>\n      <th>map_count</th>\n      <th>hiwater_rss</th>\n      <th>...</th>\n      <th>reserved_vm</th>\n      <th>nr_ptes</th>\n      <th>nvcsw</th>\n      <th>nivcsw</th>\n      <th>signal_nvcsw</th>\n      <th>os_CentOS</th>\n      <th>os_Debian</th>\n      <th>os_Mac</th>\n      <th>os_Ubuntu</th>\n      <th>os_Windows</th>\n    </tr>\n  </thead>\n  <tbody>\n    <tr>\n      <th>0</th>\n      <td>malware</td>\n      <td>0</td>\n      <td>3069378560</td>\n      <td>14274</td>\n      <td>0</td>\n      <td>0</td>\n      <td>13173</td>\n      <td>0</td>\n      <td>6850</td>\n      <td>0</td>\n      <td>...</td>\n      <td>210</td>\n      <td>0</td>\n      <td>341974</td>\n      <td>0</td>\n      <td>0</td>\n      <td>1.0</td>\n      <td>0.0</td>\n      <td>0.0</td>\n      <td>0.0</td>\n      <td>0.0</td>\n    </tr>\n    <tr>\n      <th>1</th>\n      <td>malware</td>\n      <td>0</td>\n      <td>3069378560</td>\n      <td>14274</td>\n      <td>0</td>\n      <td>0</td>\n      <td>13173</td>\n      <td>0</td>\n      <td>6850</td>\n      <td>0</td>\n      <td>...</td>\n      <td>210</td>\n      <td>0</td>\n      <td>341974</td>\n      <td>0</td>\n      <td>0</td>\n      <td>0.0</td>\n      <td>0.0</td>\n      <td>0.0</td>\n      <td>0.0</td>\n      <td>1.0</td>\n    </tr>\n    <tr>\n      <th>2</th>\n      <td>malware</td>\n      <td>0</td>\n      <td>3069378560</td>\n      <td>14274</td>\n      <td>0</td>\n      <td>0</td>\n      <td>13173</td>\n      <td>0</td>\n      <td>6850</td>\n      <td>0</td>\n      <td>...</td>\n      <td>210</td>\n      <td>0</td>\n      <td>341974</td>\n      <td>0</td>\n      <td>0</td>\n      <td>0.0</td>\n      <td>0.0</td>\n      <td>1.0</td>\n      <td>0.0</td>\n      <td>0.0</td>\n    </tr>\n    <tr>\n      <th>3</th>\n      <td>malware</td>\n      <td>0</td>\n      <td>3069378560</td>\n      <td>14274</td>\n      <td>0</td>\n      <td>0</td>\n      <td>13173</td>\n      <td>0</td>\n      <td>6850</td>\n      <td>0</td>\n      <td>...</td>\n      <td>210</td>\n      <td>0</td>\n      <td>341974</td>\n      <td>0</td>\n      <td>0</td>\n      <td>0.0</td>\n      <td>0.0</td>\n      <td>0.0</td>\n      <td>1.0</td>\n      <td>0.0</td>\n    </tr>\n    <tr>\n      <th>4</th>\n      <td>malware</td>\n      <td>0</td>\n      <td>3069378560</td>\n      <td>14274</td>\n      <td>0</td>\n      <td>0</td>\n      <td>13173</td>\n      <td>0</td>\n      <td>6850</td>\n      <td>0</td>\n      <td>...</td>\n      <td>210</td>\n      <td>0</td>\n      <td>341974</td>\n      <td>0</td>\n      <td>0</td>\n      <td>0.0</td>\n      <td>0.0</td>\n      <td>1.0</td>\n      <td>0.0</td>\n      <td>0.0</td>\n    </tr>\n  </tbody>\n</table>\n<p>5 rows × 23 columns</p>\n</div>"
          },
          "metadata": {}
        }
      ],
      "execution_count": 39
    },
    {
      "cell_type": "code",
      "source": "df=df.drop('os_CentOS',axis=1) #Dropping os_centOS to maintain n-1 columns",
      "metadata": {
        "trusted": true
      },
      "outputs": [],
      "execution_count": 40
    },
    {
      "cell_type": "code",
      "source": "for col in df.columns:\n    # removing classification as it is the label\n    if col != 'classification':\n        df[col]=(df[col]-df[col].min())/(df[col].max()-df[col].min())\n        # both min and max value of the predictor task_size is zero so dropped.\n    # it does not contribute to distance calculation\ndf = df.drop('task_size', axis= 1)",
      "metadata": {
        "trusted": true
      },
      "outputs": [],
      "execution_count": 41
    },
    {
      "cell_type": "code",
      "source": "df.isna().sum()",
      "metadata": {
        "trusted": true
      },
      "outputs": [
        {
          "execution_count": 42,
          "output_type": "execute_result",
          "data": {
            "text/plain": "classification            0\nusage_counter        100000\nprio                      0\nstatic_prio               0\nnormal_prio          100000\nvm_pgoff             100000\nvm_truncate_count         0\nmap_count                 0\nhiwater_rss          100000\ntotal_vm                  0\nshared_vm                 0\nexec_vm                   0\nreserved_vm               0\nnr_ptes              100000\nnvcsw                     0\nnivcsw                    0\nsignal_nvcsw         100000\nos_Debian                 0\nos_Mac                    0\nos_Ubuntu                 0\nos_Windows                0\ndtype: int64"
          },
          "metadata": {}
        }
      ],
      "execution_count": 42
    },
    {
      "cell_type": "code",
      "source": "df.describe()",
      "metadata": {
        "trusted": true
      },
      "outputs": [
        {
          "execution_count": 43,
          "output_type": "execute_result",
          "data": {
            "text/plain": "       usage_counter           prio    static_prio  normal_prio  vm_pgoff  \\\ncount            0.0  100000.000000  100000.000000          0.0       0.0   \nmean             NaN       0.499762       0.234841          NaN       NaN   \nstd              NaN       0.287065       0.258006          NaN       NaN   \nmin              NaN       0.000000       0.000000          NaN       NaN   \n25%              NaN       0.248016       0.020373          NaN       NaN   \n50%              NaN       0.492063       0.121509          NaN       NaN   \n75%              NaN       0.743056       0.458611          NaN       NaN   \nmax              NaN       1.000000       1.000000          NaN       NaN   \n\n       vm_truncate_count      map_count  hiwater_rss       total_vm  \\\ncount      100000.000000  100000.000000          0.0  100000.000000   \nmean            0.321712       0.241567          NaN       0.093546   \nstd             0.186489       0.147887          NaN       0.111189   \nmin             0.000000       0.000000          NaN       0.000000   \n25%             0.169110       0.150023          NaN       0.033856   \n50%             0.317833       0.206165          NaN       0.061654   \n75%             0.456305       0.316299          NaN       0.115110   \nmax             1.000000       1.000000          NaN       1.000000   \n\n           shared_vm        exec_vm    reserved_vm  nr_ptes          nvcsw  \\\ncount  100000.000000  100000.000000  100000.000000      0.0  100000.000000   \nmean        0.740030       0.343059       0.242872      NaN       0.226876   \nstd         0.389611       0.214211       0.155259      NaN       0.194690   \nmin         0.000000       0.000000       0.000000      NaN       0.000000   \n25%         0.250000       0.192308       0.114325      NaN       0.091519   \n50%         1.000000       0.336538       0.225895      NaN       0.204049   \n75%         1.000000       0.442308       0.336088      NaN       0.298492   \nmax         1.000000       1.000000       1.000000      NaN       1.000000   \n\n              nivcsw  signal_nvcsw      os_Debian         os_Mac  \\\ncount  100000.000000           0.0  100000.000000  100000.000000   \nmean        0.090387           NaN       0.199140       0.199460   \nstd         0.144466           NaN       0.399356       0.399596   \nmin         0.000000           NaN       0.000000       0.000000   \n25%         0.002740           NaN       0.000000       0.000000   \n50%         0.024658           NaN       0.000000       0.000000   \n75%         0.126027           NaN       0.000000       0.000000   \nmax         1.000000           NaN       1.000000       1.000000   \n\n           os_Ubuntu     os_Windows  \ncount  100000.000000  100000.000000  \nmean        0.200680       0.201100  \nstd         0.400511       0.400825  \nmin         0.000000       0.000000  \n25%         0.000000       0.000000  \n50%         0.000000       0.000000  \n75%         0.000000       0.000000  \nmax         1.000000       1.000000  ",
            "text/html": "<div>\n<style scoped>\n    .dataframe tbody tr th:only-of-type {\n        vertical-align: middle;\n    }\n\n    .dataframe tbody tr th {\n        vertical-align: top;\n    }\n\n    .dataframe thead th {\n        text-align: right;\n    }\n</style>\n<table border=\"1\" class=\"dataframe\">\n  <thead>\n    <tr style=\"text-align: right;\">\n      <th></th>\n      <th>usage_counter</th>\n      <th>prio</th>\n      <th>static_prio</th>\n      <th>normal_prio</th>\n      <th>vm_pgoff</th>\n      <th>vm_truncate_count</th>\n      <th>map_count</th>\n      <th>hiwater_rss</th>\n      <th>total_vm</th>\n      <th>shared_vm</th>\n      <th>exec_vm</th>\n      <th>reserved_vm</th>\n      <th>nr_ptes</th>\n      <th>nvcsw</th>\n      <th>nivcsw</th>\n      <th>signal_nvcsw</th>\n      <th>os_Debian</th>\n      <th>os_Mac</th>\n      <th>os_Ubuntu</th>\n      <th>os_Windows</th>\n    </tr>\n  </thead>\n  <tbody>\n    <tr>\n      <th>count</th>\n      <td>0.0</td>\n      <td>100000.000000</td>\n      <td>100000.000000</td>\n      <td>0.0</td>\n      <td>0.0</td>\n      <td>100000.000000</td>\n      <td>100000.000000</td>\n      <td>0.0</td>\n      <td>100000.000000</td>\n      <td>100000.000000</td>\n      <td>100000.000000</td>\n      <td>100000.000000</td>\n      <td>0.0</td>\n      <td>100000.000000</td>\n      <td>100000.000000</td>\n      <td>0.0</td>\n      <td>100000.000000</td>\n      <td>100000.000000</td>\n      <td>100000.000000</td>\n      <td>100000.000000</td>\n    </tr>\n    <tr>\n      <th>mean</th>\n      <td>NaN</td>\n      <td>0.499762</td>\n      <td>0.234841</td>\n      <td>NaN</td>\n      <td>NaN</td>\n      <td>0.321712</td>\n      <td>0.241567</td>\n      <td>NaN</td>\n      <td>0.093546</td>\n      <td>0.740030</td>\n      <td>0.343059</td>\n      <td>0.242872</td>\n      <td>NaN</td>\n      <td>0.226876</td>\n      <td>0.090387</td>\n      <td>NaN</td>\n      <td>0.199140</td>\n      <td>0.199460</td>\n      <td>0.200680</td>\n      <td>0.201100</td>\n    </tr>\n    <tr>\n      <th>std</th>\n      <td>NaN</td>\n      <td>0.287065</td>\n      <td>0.258006</td>\n      <td>NaN</td>\n      <td>NaN</td>\n      <td>0.186489</td>\n      <td>0.147887</td>\n      <td>NaN</td>\n      <td>0.111189</td>\n      <td>0.389611</td>\n      <td>0.214211</td>\n      <td>0.155259</td>\n      <td>NaN</td>\n      <td>0.194690</td>\n      <td>0.144466</td>\n      <td>NaN</td>\n      <td>0.399356</td>\n      <td>0.399596</td>\n      <td>0.400511</td>\n      <td>0.400825</td>\n    </tr>\n    <tr>\n      <th>min</th>\n      <td>NaN</td>\n      <td>0.000000</td>\n      <td>0.000000</td>\n      <td>NaN</td>\n      <td>NaN</td>\n      <td>0.000000</td>\n      <td>0.000000</td>\n      <td>NaN</td>\n      <td>0.000000</td>\n      <td>0.000000</td>\n      <td>0.000000</td>\n      <td>0.000000</td>\n      <td>NaN</td>\n      <td>0.000000</td>\n      <td>0.000000</td>\n      <td>NaN</td>\n      <td>0.000000</td>\n      <td>0.000000</td>\n      <td>0.000000</td>\n      <td>0.000000</td>\n    </tr>\n    <tr>\n      <th>25%</th>\n      <td>NaN</td>\n      <td>0.248016</td>\n      <td>0.020373</td>\n      <td>NaN</td>\n      <td>NaN</td>\n      <td>0.169110</td>\n      <td>0.150023</td>\n      <td>NaN</td>\n      <td>0.033856</td>\n      <td>0.250000</td>\n      <td>0.192308</td>\n      <td>0.114325</td>\n      <td>NaN</td>\n      <td>0.091519</td>\n      <td>0.002740</td>\n      <td>NaN</td>\n      <td>0.000000</td>\n      <td>0.000000</td>\n      <td>0.000000</td>\n      <td>0.000000</td>\n    </tr>\n    <tr>\n      <th>50%</th>\n      <td>NaN</td>\n      <td>0.492063</td>\n      <td>0.121509</td>\n      <td>NaN</td>\n      <td>NaN</td>\n      <td>0.317833</td>\n      <td>0.206165</td>\n      <td>NaN</td>\n      <td>0.061654</td>\n      <td>1.000000</td>\n      <td>0.336538</td>\n      <td>0.225895</td>\n      <td>NaN</td>\n      <td>0.204049</td>\n      <td>0.024658</td>\n      <td>NaN</td>\n      <td>0.000000</td>\n      <td>0.000000</td>\n      <td>0.000000</td>\n      <td>0.000000</td>\n    </tr>\n    <tr>\n      <th>75%</th>\n      <td>NaN</td>\n      <td>0.743056</td>\n      <td>0.458611</td>\n      <td>NaN</td>\n      <td>NaN</td>\n      <td>0.456305</td>\n      <td>0.316299</td>\n      <td>NaN</td>\n      <td>0.115110</td>\n      <td>1.000000</td>\n      <td>0.442308</td>\n      <td>0.336088</td>\n      <td>NaN</td>\n      <td>0.298492</td>\n      <td>0.126027</td>\n      <td>NaN</td>\n      <td>0.000000</td>\n      <td>0.000000</td>\n      <td>0.000000</td>\n      <td>0.000000</td>\n    </tr>\n    <tr>\n      <th>max</th>\n      <td>NaN</td>\n      <td>1.000000</td>\n      <td>1.000000</td>\n      <td>NaN</td>\n      <td>NaN</td>\n      <td>1.000000</td>\n      <td>1.000000</td>\n      <td>NaN</td>\n      <td>1.000000</td>\n      <td>1.000000</td>\n      <td>1.000000</td>\n      <td>1.000000</td>\n      <td>NaN</td>\n      <td>1.000000</td>\n      <td>1.000000</td>\n      <td>NaN</td>\n      <td>1.000000</td>\n      <td>1.000000</td>\n      <td>1.000000</td>\n      <td>1.000000</td>\n    </tr>\n  </tbody>\n</table>\n</div>"
          },
          "metadata": {}
        }
      ],
      "execution_count": 43
    },
    {
      "cell_type": "code",
      "source": "# other predictors have max and min value 0 i.e all values are zero, they do not contribute in calculating the distance, so dropped \ndf = df.drop(['usage_counter','normal_prio', 'vm_pgoff',\\\n              'hiwater_rss', 'nr_ptes', 'signal_nvcsw'], axis=1)",
      "metadata": {
        "trusted": true
      },
      "outputs": [],
      "execution_count": 44
    },
    {
      "cell_type": "code",
      "source": "# checking for null values in data\ndf.isna().sum()",
      "metadata": {
        "trusted": true
      },
      "outputs": [
        {
          "execution_count": 45,
          "output_type": "execute_result",
          "data": {
            "text/plain": "classification       0\nprio                 0\nstatic_prio          0\nvm_truncate_count    0\nmap_count            0\ntotal_vm             0\nshared_vm            0\nexec_vm              0\nreserved_vm          0\nnvcsw                0\nnivcsw               0\nos_Debian            0\nos_Mac               0\nos_Ubuntu            0\nos_Windows           0\ndtype: int64"
          },
          "metadata": {}
        }
      ],
      "execution_count": 45
    },
    {
      "cell_type": "code",
      "source": "from sklearn import preprocessing\ny = df['classification'] # define label as nominal values\nle = preprocessing.LabelEncoder()\nle.fit(y)\ny_encoded = le.transform(y) # encode nominal labels to integers \n\nprint(y_encoded)\n\ndf['classification'] = y_encoded\nx_features = df.drop('classification',axis=1)",
      "metadata": {
        "trusted": true
      },
      "outputs": [
        {
          "name": "stdout",
          "text": "[1 1 1 ... 1 1 1]\n",
          "output_type": "stream"
        }
      ],
      "execution_count": 46
    },
    {
      "cell_type": "code",
      "source": "df.head()",
      "metadata": {
        "trusted": true
      },
      "outputs": [
        {
          "execution_count": 47,
          "output_type": "execute_result",
          "data": {
            "text/plain": "   classification     prio  static_prio  vm_truncate_count  map_count  \\\n0               1  0.18254     0.016007           0.199175    0.16651   \n1               1  0.18254     0.016007           0.199175    0.16651   \n2               1  0.18254     0.016007           0.199175    0.16651   \n3               1  0.18254     0.016007           0.199175    0.16651   \n4               1  0.18254     0.016007           0.199175    0.16651   \n\n   total_vm  shared_vm   exec_vm  reserved_vm     nvcsw  nivcsw  os_Debian  \\\n0  0.052031        1.0  0.307692     0.249311  0.091519     0.0        0.0   \n1  0.052031        1.0  0.307692     0.249311  0.091519     0.0        0.0   \n2  0.052031        1.0  0.307692     0.249311  0.091519     0.0        0.0   \n3  0.052031        1.0  0.307692     0.249311  0.091519     0.0        0.0   \n4  0.052031        1.0  0.307692     0.249311  0.091519     0.0        0.0   \n\n   os_Mac  os_Ubuntu  os_Windows  \n0     0.0        0.0         0.0  \n1     0.0        0.0         1.0  \n2     1.0        0.0         0.0  \n3     0.0        1.0         0.0  \n4     1.0        0.0         0.0  ",
            "text/html": "<div>\n<style scoped>\n    .dataframe tbody tr th:only-of-type {\n        vertical-align: middle;\n    }\n\n    .dataframe tbody tr th {\n        vertical-align: top;\n    }\n\n    .dataframe thead th {\n        text-align: right;\n    }\n</style>\n<table border=\"1\" class=\"dataframe\">\n  <thead>\n    <tr style=\"text-align: right;\">\n      <th></th>\n      <th>classification</th>\n      <th>prio</th>\n      <th>static_prio</th>\n      <th>vm_truncate_count</th>\n      <th>map_count</th>\n      <th>total_vm</th>\n      <th>shared_vm</th>\n      <th>exec_vm</th>\n      <th>reserved_vm</th>\n      <th>nvcsw</th>\n      <th>nivcsw</th>\n      <th>os_Debian</th>\n      <th>os_Mac</th>\n      <th>os_Ubuntu</th>\n      <th>os_Windows</th>\n    </tr>\n  </thead>\n  <tbody>\n    <tr>\n      <th>0</th>\n      <td>1</td>\n      <td>0.18254</td>\n      <td>0.016007</td>\n      <td>0.199175</td>\n      <td>0.16651</td>\n      <td>0.052031</td>\n      <td>1.0</td>\n      <td>0.307692</td>\n      <td>0.249311</td>\n      <td>0.091519</td>\n      <td>0.0</td>\n      <td>0.0</td>\n      <td>0.0</td>\n      <td>0.0</td>\n      <td>0.0</td>\n    </tr>\n    <tr>\n      <th>1</th>\n      <td>1</td>\n      <td>0.18254</td>\n      <td>0.016007</td>\n      <td>0.199175</td>\n      <td>0.16651</td>\n      <td>0.052031</td>\n      <td>1.0</td>\n      <td>0.307692</td>\n      <td>0.249311</td>\n      <td>0.091519</td>\n      <td>0.0</td>\n      <td>0.0</td>\n      <td>0.0</td>\n      <td>0.0</td>\n      <td>1.0</td>\n    </tr>\n    <tr>\n      <th>2</th>\n      <td>1</td>\n      <td>0.18254</td>\n      <td>0.016007</td>\n      <td>0.199175</td>\n      <td>0.16651</td>\n      <td>0.052031</td>\n      <td>1.0</td>\n      <td>0.307692</td>\n      <td>0.249311</td>\n      <td>0.091519</td>\n      <td>0.0</td>\n      <td>0.0</td>\n      <td>1.0</td>\n      <td>0.0</td>\n      <td>0.0</td>\n    </tr>\n    <tr>\n      <th>3</th>\n      <td>1</td>\n      <td>0.18254</td>\n      <td>0.016007</td>\n      <td>0.199175</td>\n      <td>0.16651</td>\n      <td>0.052031</td>\n      <td>1.0</td>\n      <td>0.307692</td>\n      <td>0.249311</td>\n      <td>0.091519</td>\n      <td>0.0</td>\n      <td>0.0</td>\n      <td>0.0</td>\n      <td>1.0</td>\n      <td>0.0</td>\n    </tr>\n    <tr>\n      <th>4</th>\n      <td>1</td>\n      <td>0.18254</td>\n      <td>0.016007</td>\n      <td>0.199175</td>\n      <td>0.16651</td>\n      <td>0.052031</td>\n      <td>1.0</td>\n      <td>0.307692</td>\n      <td>0.249311</td>\n      <td>0.091519</td>\n      <td>0.0</td>\n      <td>0.0</td>\n      <td>1.0</td>\n      <td>0.0</td>\n      <td>0.0</td>\n    </tr>\n  </tbody>\n</table>\n</div>"
          },
          "metadata": {}
        }
      ],
      "execution_count": 47
    },
    {
      "cell_type": "code",
      "source": "df.head()",
      "metadata": {
        "trusted": true
      },
      "outputs": [
        {
          "execution_count": 48,
          "output_type": "execute_result",
          "data": {
            "text/plain": "   classification     prio  static_prio  vm_truncate_count  map_count  \\\n0               1  0.18254     0.016007           0.199175    0.16651   \n1               1  0.18254     0.016007           0.199175    0.16651   \n2               1  0.18254     0.016007           0.199175    0.16651   \n3               1  0.18254     0.016007           0.199175    0.16651   \n4               1  0.18254     0.016007           0.199175    0.16651   \n\n   total_vm  shared_vm   exec_vm  reserved_vm     nvcsw  nivcsw  os_Debian  \\\n0  0.052031        1.0  0.307692     0.249311  0.091519     0.0        0.0   \n1  0.052031        1.0  0.307692     0.249311  0.091519     0.0        0.0   \n2  0.052031        1.0  0.307692     0.249311  0.091519     0.0        0.0   \n3  0.052031        1.0  0.307692     0.249311  0.091519     0.0        0.0   \n4  0.052031        1.0  0.307692     0.249311  0.091519     0.0        0.0   \n\n   os_Mac  os_Ubuntu  os_Windows  \n0     0.0        0.0         0.0  \n1     0.0        0.0         1.0  \n2     1.0        0.0         0.0  \n3     0.0        1.0         0.0  \n4     1.0        0.0         0.0  ",
            "text/html": "<div>\n<style scoped>\n    .dataframe tbody tr th:only-of-type {\n        vertical-align: middle;\n    }\n\n    .dataframe tbody tr th {\n        vertical-align: top;\n    }\n\n    .dataframe thead th {\n        text-align: right;\n    }\n</style>\n<table border=\"1\" class=\"dataframe\">\n  <thead>\n    <tr style=\"text-align: right;\">\n      <th></th>\n      <th>classification</th>\n      <th>prio</th>\n      <th>static_prio</th>\n      <th>vm_truncate_count</th>\n      <th>map_count</th>\n      <th>total_vm</th>\n      <th>shared_vm</th>\n      <th>exec_vm</th>\n      <th>reserved_vm</th>\n      <th>nvcsw</th>\n      <th>nivcsw</th>\n      <th>os_Debian</th>\n      <th>os_Mac</th>\n      <th>os_Ubuntu</th>\n      <th>os_Windows</th>\n    </tr>\n  </thead>\n  <tbody>\n    <tr>\n      <th>0</th>\n      <td>1</td>\n      <td>0.18254</td>\n      <td>0.016007</td>\n      <td>0.199175</td>\n      <td>0.16651</td>\n      <td>0.052031</td>\n      <td>1.0</td>\n      <td>0.307692</td>\n      <td>0.249311</td>\n      <td>0.091519</td>\n      <td>0.0</td>\n      <td>0.0</td>\n      <td>0.0</td>\n      <td>0.0</td>\n      <td>0.0</td>\n    </tr>\n    <tr>\n      <th>1</th>\n      <td>1</td>\n      <td>0.18254</td>\n      <td>0.016007</td>\n      <td>0.199175</td>\n      <td>0.16651</td>\n      <td>0.052031</td>\n      <td>1.0</td>\n      <td>0.307692</td>\n      <td>0.249311</td>\n      <td>0.091519</td>\n      <td>0.0</td>\n      <td>0.0</td>\n      <td>0.0</td>\n      <td>0.0</td>\n      <td>1.0</td>\n    </tr>\n    <tr>\n      <th>2</th>\n      <td>1</td>\n      <td>0.18254</td>\n      <td>0.016007</td>\n      <td>0.199175</td>\n      <td>0.16651</td>\n      <td>0.052031</td>\n      <td>1.0</td>\n      <td>0.307692</td>\n      <td>0.249311</td>\n      <td>0.091519</td>\n      <td>0.0</td>\n      <td>0.0</td>\n      <td>1.0</td>\n      <td>0.0</td>\n      <td>0.0</td>\n    </tr>\n    <tr>\n      <th>3</th>\n      <td>1</td>\n      <td>0.18254</td>\n      <td>0.016007</td>\n      <td>0.199175</td>\n      <td>0.16651</td>\n      <td>0.052031</td>\n      <td>1.0</td>\n      <td>0.307692</td>\n      <td>0.249311</td>\n      <td>0.091519</td>\n      <td>0.0</td>\n      <td>0.0</td>\n      <td>0.0</td>\n      <td>1.0</td>\n      <td>0.0</td>\n    </tr>\n    <tr>\n      <th>4</th>\n      <td>1</td>\n      <td>0.18254</td>\n      <td>0.016007</td>\n      <td>0.199175</td>\n      <td>0.16651</td>\n      <td>0.052031</td>\n      <td>1.0</td>\n      <td>0.307692</td>\n      <td>0.249311</td>\n      <td>0.091519</td>\n      <td>0.0</td>\n      <td>0.0</td>\n      <td>1.0</td>\n      <td>0.0</td>\n      <td>0.0</td>\n    </tr>\n  </tbody>\n</table>\n</div>"
          },
          "metadata": {}
        }
      ],
      "execution_count": 48
    },
    {
      "cell_type": "code",
      "source": "# splitting the data into train and test\nfrom sklearn.model_selection import train_test_split\n\nx_train, x_test, y_train, y_test = train_test_split(x_features, y_encoded, \n                                                    test_size=0.2)",
      "metadata": {
        "trusted": true
      },
      "outputs": [],
      "execution_count": 49
    },
    {
      "cell_type": "code",
      "source": "#out of curiosity I also tried hold out evaluation\nfrom sklearn import neighbors\nfrom sklearn.metrics import accuracy_score\nfrom sklearn.metrics import precision_score\nfrom sklearn.metrics import recall_score\nfrom sklearn.metrics import roc_auc_score\n\nimport warnings\nwarnings.filterwarnings(\"ignore\")\n\n# using both the metrics euclidean and manhattan distance\ndistances = ['euclidean','manhattan']\nfor i in distances: \n    print('metric: ', i)\n    # k in range 5 to 105 with stepsize 10\n    for k in range(5,105,10): \n        classifier=neighbors.KNeighborsClassifier(k, metric=i)\n        classifier.fit(x_train, y_train)\n        y_pred = classifier.predict(x_test)\n        # Prints test accuracy, precision, recall and AUC\n        print('K =', k, ', Accuracy: ', accuracy_score(y_test, y_pred), ', Precision: ', precision_score(y_test, y_pred, average='macro', zero_division=0),\n            ', Recall: ', recall_score(y_test, y_pred, average='macro', zero_division=0),', AUC:', roc_auc_score(y_test, y_pred))",
      "metadata": {
        "trusted": true
      },
      "outputs": [
        {
          "name": "stdout",
          "text": "metric:  euclidean\nK = 5 , Accuracy:  0.99985 , Precision:  0.9998498799039232 , Recall:  0.9998501648186995 , AUC: 0.9998501648186995\nK = 15 , Accuracy:  0.9999 , Precision:  0.9999001298312193 , Recall:  0.9998998898788667 , AUC: 0.9998998898788667\nK = 25 , Accuracy:  0.99895 , Precision:  0.9989498793279228 , Recall:  0.998950163729698 , AUC: 0.998950163729698\nK = 35 , Accuracy:  0.9966 , Precision:  0.9966000599660005 , Recall:  0.9966006558867937 , AUC: 0.9966006558867936\nK = 45 , Accuracy:  0.9952 , Precision:  0.995201204193457 , Recall:  0.995201204193457 , AUC: 0.9952012041934571\nK = 55 , Accuracy:  0.9927 , Precision:  0.9927087801832006 , Recall:  0.9927026311701836 , AUC: 0.9927026311701836\nK = 65 , Accuracy:  0.99125 , Precision:  0.9912600601609626 , Recall:  0.9912527944158813 , AUC: 0.9912527944158813\nK = 75 , Accuracy:  0.98865 , Precision:  0.9886873693387144 , Recall:  0.9886551012726725 , AUC: 0.9886551012726725\nK = 85 , Accuracy:  0.9852 , Precision:  0.9852509922658623 , Recall:  0.9852059220991658 , AUC: 0.9852059220991658\nK = 95 , Accuracy:  0.983 , Precision:  0.9830395746092655 , Recall:  0.9830052594363639 , AUC: 0.9830052594363639\nmetric:  manhattan\nK = 5 , Accuracy:  1.0 , Precision:  1.0 , Recall:  1.0 , AUC: 1.0\nK = 15 , Accuracy:  1.0 , Precision:  1.0 , Recall:  1.0 , AUC: 1.0\nK = 25 , Accuracy:  0.99955 , Precision:  0.9995498498379459 , Recall:  0.999550274455832 , AUC: 0.9995502744558321\nK = 35 , Accuracy:  0.99725 , Precision:  0.9972521529655116 , Recall:  0.9972514816742928 , AUC: 0.9972514816742927\nK = 45 , Accuracy:  0.9964 , Precision:  0.9964038909765833 , Recall:  0.9964018656462574 , AUC: 0.9964018656462574\nK = 55 , Accuracy:  0.99515 , Precision:  0.9951554220185086 , Recall:  0.9951521391340883 , AUC: 0.9951521391340883\nK = 65 , Accuracy:  0.99325 , Precision:  0.9932547644022074 , Recall:  0.9932520268349525 , AUC: 0.9932520268349525\nK = 75 , Accuracy:  0.99125 , Precision:  0.9912709857554872 , Recall:  0.9912538944172122 , AUC: 0.9912538944172122\nK = 85 , Accuracy:  0.98885 , Precision:  0.988896440194698 , Recall:  0.9888556515153384 , AUC: 0.9888556515153383\nK = 95 , Accuracy:  0.9877 , Precision:  0.9877492443693043 , Recall:  0.9877058151240363 , AUC: 0.9877058151240362\n",
          "output_type": "stream"
        }
      ],
      "execution_count": 50
    },
    {
      "cell_type": "code",
      "source": "# 10-Fold cross validation on the dataset using euclidean distance\nfrom sklearn.model_selection import cross_val_score\n\nk_val = [3, 5, 11, 31, 51, 71, 91, 111, 131, 151, 171, 191, 211, 251, 271, 291]\n\nfor k in k_val: \n    classifier = neighbors.KNeighborsClassifier(k, metric='euclidean')\n    accuracy = cross_val_score(classifier, x_features, y_encoded, cv=10, scoring='accuracy').mean()\n    print('K =', k, ', Accuracy: ',accuracy)",
      "metadata": {
        "trusted": true
      },
      "outputs": [
        {
          "name": "stdout",
          "text": "K = 3 , Accuracy:  0.78889\nK = 5 , Accuracy:  0.7859100000000001\nK = 11 , Accuracy:  0.7809999999999999\nK = 31 , Accuracy:  0.77349\nK = 51 , Accuracy:  0.77732\nK = 71 , Accuracy:  0.7784200000000001\nK = 91 , Accuracy:  0.7798\nK = 111 , Accuracy:  0.77699\nK = 131 , Accuracy:  0.77518\nK = 151 , Accuracy:  0.76793\nK = 171 , Accuracy:  0.76773\nK = 191 , Accuracy:  0.7670699999999999\nK = 211 , Accuracy:  0.7632599999999999\nK = 251 , Accuracy:  0.75099\nK = 271 , Accuracy:  0.7526400000000001\nK = 291 , Accuracy:  0.7588999999999999\n",
          "output_type": "stream"
        }
      ],
      "execution_count": 51
    },
    {
      "cell_type": "code",
      "source": "# 10-Fold cross validation on the dataset using manhattan distance\nk_val = [3, 5, 11, 31, 51, 71, 91, 111, 131, 151, 171, 191, 211, 251, 271, 291]\n\nfor k in k_val: \n    classifier = neighbors.KNeighborsClassifier(k, metric='manhattan')\n    accuracy = cross_val_score(classifier, x_features, y_encoded, cv=10, scoring='accuracy').mean()\n    print('K =', k, ', Accuracy: ',accuracy)",
      "metadata": {
        "trusted": true
      },
      "outputs": [
        {
          "name": "stdout",
          "text": "K = 3 , Accuracy:  0.8068500000000001\nK = 5 , Accuracy:  0.80443\nK = 11 , Accuracy:  0.7999099999999999\nK = 31 , Accuracy:  0.80442\nK = 51 , Accuracy:  0.8047599999999999\nK = 71 , Accuracy:  0.80351\nK = 91 , Accuracy:  0.80593\nK = 111 , Accuracy:  0.80916\nK = 131 , Accuracy:  0.8032\nK = 151 , Accuracy:  0.8051999999999999\nK = 171 , Accuracy:  0.80586\nK = 191 , Accuracy:  0.80528\nK = 211 , Accuracy:  0.79811\nK = 251 , Accuracy:  0.79233\nK = 271 , Accuracy:  0.7952\nK = 291 , Accuracy:  0.79949\n",
          "output_type": "stream"
        }
      ],
      "execution_count": 52
    },
    {
      "cell_type": "code",
      "source": "from sklearn.model_selection import cross_val_score\nfrom sklearn.metrics import make_scorer, precision_score, recall_score\nfrom sklearn import neighbors\n\n# Assuming x_features and y_encoded are your feature and target variables\n\nk_val = [3, 5, 11, 31, 51, 71, 91, 111, 131, 151, 171, 191, 211, 251, 271, 291]\n\nfor k in k_val: \n    classifier = neighbors.KNeighborsClassifier(k, metric='euclidean')\n\n    # Calculate accuracy\n    accuracy = cross_val_score(classifier, x_features, y_encoded, cv=10, scoring='accuracy').mean()\n\n    # Calculate precision\n    precision = cross_val_score(classifier, x_features, y_encoded, cv=10, scoring=make_scorer(precision_score)).mean()\n\n    # Calculate recall\n    recall = cross_val_score(classifier, x_features, y_encoded, cv=10, scoring=make_scorer(recall_score)).mean()\n\n    print('K =', k, ', Accuracy:', accuracy, ', Precision:', precision, ', Recall:', recall)",
      "metadata": {
        "trusted": true
      },
      "outputs": [
        {
          "name": "stdout",
          "text": "K = 3 , Accuracy: 0.78889 , Precision: 0.7919387867242302 , Recall: 0.8069599999999999\nK = 5 , Accuracy: 0.7859100000000001 , Precision: 0.7923652881380647 , Recall: 0.7990200000000001\nK = 11 , Accuracy: 0.7809999999999999 , Precision: 0.7909925332463366 , Recall: 0.7882199999999999\nK = 31 , Accuracy: 0.77349 , Precision: 0.7783442591584715 , Recall: 0.7860199999999999\nK = 51 , Accuracy: 0.77732 , Precision: 0.789142914527225 , Recall: 0.7863\nK = 71 , Accuracy: 0.7784200000000001 , Precision: 0.7934212935475051 , Recall: 0.7827399999999999\nK = 91 , Accuracy: 0.7798 , Precision: 0.7995343447953918 , Recall: 0.7776599999999999\nK = 111 , Accuracy: 0.77699 , Precision: 0.7980708668900063 , Recall: 0.77672\nK = 131 , Accuracy: 0.77518 , Precision: 0.7951990342762876 , Recall: 0.7774599999999999\nK = 151 , Accuracy: 0.76793 , Precision: 0.7840193019598036 , Recall: 0.7761\nK = 171 , Accuracy: 0.76773 , Precision: 0.7834847144040152 , Recall: 0.7787200000000001\nK = 191 , Accuracy: 0.7670699999999999 , Precision: 0.7818282331169801 , Recall: 0.7796799999999999\nK = 211 , Accuracy: 0.7632599999999999 , Precision: 0.7766213825172243 , Recall: 0.78124\nK = 251 , Accuracy: 0.75099 , Precision: 0.7628746806354341 , Recall: 0.77332\nK = 271 , Accuracy: 0.7526400000000001 , Precision: 0.7633079061165955 , Recall: 0.7741\nK = 291 , Accuracy: 0.7588999999999999 , Precision: 0.767609312272534 , Recall: 0.78248\n",
          "output_type": "stream"
        }
      ],
      "execution_count": 53
    },
    {
      "cell_type": "code",
      "source": "from sklearn.model_selection import cross_val_score\nfrom sklearn.metrics import make_scorer, precision_score, recall_score\nfrom sklearn.neighbors import KNeighborsClassifier\n\n# Assuming x_features and y_encoded are your feature and target variables\n\nk_val = [3, 5, 11, 31, 51, 71, 91, 111, 131, 151, 171, 191, 211, 251, 271, 291]\n\nfor k in k_val:\n    classifier = KNeighborsClassifier(k, metric='manhattan',weights='distance')\n#Hyper-Parameters changed - Distance \n    # Calculate accuracy\n    accuracy = cross_val_score(classifier, x_features, y_encoded, cv=10, scoring='accuracy').mean()\n\n    # Calculate precision\n    precision = cross_val_score(classifier, x_features, y_encoded, cv=10, scoring=make_scorer(precision_score)).mean()\n\n    # Calculate recall\n    recall = cross_val_score(classifier, x_features, y_encoded, cv=10, scoring=make_scorer(recall_score)).mean()\n\n    print('K =', k, ', Accuracy:', accuracy, ', Precision:', precision, ', Recall:', recall)",
      "metadata": {
        "trusted": true
      },
      "outputs": [
        {
          "name": "stdout",
          "text": "K = 3 , Accuracy: 0.8068500000000001 , Precision: 0.8108903070068443 , Recall: 0.81932\nK = 5 , Accuracy: 0.80468 , Precision: 0.8098712379509271 , Recall: 0.8141400000000001\nK = 11 , Accuracy: 0.8002499999999999 , Precision: 0.808418707712533 , Recall: 0.80282\nK = 31 , Accuracy: 0.80493 , Precision: 0.813872612997249 , Recall: 0.80754\nK = 51 , Accuracy: 0.80578 , Precision: 0.8148582210695465 , Recall: 0.81182\nK = 71 , Accuracy: 0.8049000000000002 , Precision: 0.811230972699241 , Recall: 0.81368\nK = 91 , Accuracy: 0.80758 , Precision: 0.8144153797021488 , Recall: 0.8168399999999998\nK = 111 , Accuracy: 0.8103 , Precision: 0.8170783864180245 , Recall: 0.82358\nK = 131 , Accuracy: 0.8063499999999999 , Precision: 0.8119991271666948 , Recall: 0.8263999999999999\nK = 151 , Accuracy: 0.8059200000000001 , Precision: 0.8100704597521051 , Recall: 0.8303\nK = 171 , Accuracy: 0.8091900000000001 , Precision: 0.8111625696217388 , Recall: 0.83754\nK = 191 , Accuracy: 0.8075800000000001 , Precision: 0.8082519918995864 , Recall: 0.83894\nK = 211 , Accuracy: 0.80467 , Precision: 0.8045483698381322 , Recall: 0.8396000000000001\nK = 251 , Accuracy: 0.79833 , Precision: 0.7947938093620234 , Recall: 0.8435599999999999\nK = 271 , Accuracy: 0.8002100000000001 , Precision: 0.7958020910329648 , Recall: 0.8468000000000002\nK = 291 , Accuracy: 0.8025399999999999 , Precision: 0.7959285629673175 , Recall: 0.8522000000000001\n",
          "output_type": "stream"
        }
      ],
      "execution_count": 54
    },
    {
      "cell_type": "code",
      "source": "",
      "metadata": {
        "trusted": true
      },
      "outputs": [],
      "execution_count": null
    }
  ]
}